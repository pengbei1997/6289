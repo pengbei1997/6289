{
  "nbformat": 4,
  "nbformat_minor": 0,
  "metadata": {
    "kernelspec": {
      "display_name": "Python 3",
      "language": "python",
      "name": "python3"
    },
    "language_info": {
      "codemirror_mode": {
        "name": "ipython",
        "version": 3
      },
      "file_extension": ".py",
      "mimetype": "text/x-python",
      "name": "python",
      "nbconvert_exporter": "python",
      "pygments_lexer": "ipython3",
      "version": "3.7.6"
    },
    "toc": {
      "base_numbering": 1,
      "nav_menu": {},
      "number_sections": true,
      "sideBar": true,
      "skip_h1_title": false,
      "title_cell": "Table of Contents",
      "title_sidebar": "Contents",
      "toc_cell": true,
      "toc_position": {},
      "toc_section_display": true,
      "toc_window_display": false
    },
    "colab": {
      "name": "hw1.ipynb",
      "provenance": []
    },
    "accelerator": "GPU"
  },
  "cells": [
    {
      "cell_type": "markdown",
      "metadata": {
        "toc": true,
        "id": "hQpcOqLozdkW"
      },
      "source": [
        ""
      ]
    },
    {
      "cell_type": "markdown",
      "metadata": {
        "collapsed": true,
        "id": "gtkW4nsLzdkX"
      },
      "source": [
        "<b>\n",
        "\n",
        "<p>\n",
        "<center>\n",
        "<font size=\"5\">\n",
        "Deep learning (STAT 6289)\n",
        "</font>\n",
        "</center>\n",
        "</p>\n",
        "\n",
        "<p>\n",
        "<center>\n",
        "<font size=\"4\">\n",
        "Homework01\n",
        "</font>\n",
        "</center>\n",
        "</p>\n",
        "\n",
        "<p>\n",
        "<center>\n",
        "<font size=\"3\">\n",
        "Statistics , Columbian College of Arts & Sciences, George Washington University\n",
        "</font>\n",
        "</center>\n",
        "</p>\n",
        "\n",
        "<p>\n",
        "<center>\n",
        "<font size=\"3\">\n",
        "Author: Bei Peng\n",
        "</font>\n",
        "</center>\n",
        "</p>\n",
        "\n",
        "</b>"
      ]
    },
    {
      "cell_type": "markdown",
      "metadata": {
        "id": "sktZ4gaWzdkY"
      },
      "source": [
        "# python obejcts\n",
        "- list\n",
        "- tuple\n",
        "- sets\n",
        "- dictionary\n",
        "- loop and index\n",
        "- broadcasting\n",
        "- running on GPU"
      ]
    },
    {
      "cell_type": "code",
      "metadata": {
        "id": "11B4AWLOzdkZ",
        "outputId": "6d31677c-10d0-4c22-c94a-2190d91d2ea9",
        "colab": {
          "base_uri": "https://localhost:8080/",
          "height": 34
        }
      },
      "source": [
        "# list\n",
        "[4,5,6]\n",
        "    "
      ],
      "execution_count": 12,
      "outputs": [
        {
          "output_type": "execute_result",
          "data": {
            "text/plain": [
              "[4, 5, 6]"
            ]
          },
          "metadata": {
            "tags": []
          },
          "execution_count": 12
        }
      ]
    },
    {
      "cell_type": "code",
      "metadata": {
        "scrolled": true,
        "id": "BNi5RW75zdkd",
        "outputId": "61608d90-348f-4912-f465-837a117530a3",
        "colab": {
          "base_uri": "https://localhost:8080/",
          "height": 34
        }
      },
      "source": [
        "# tuple\n",
        "(4,5,6)"
      ],
      "execution_count": 11,
      "outputs": [
        {
          "output_type": "execute_result",
          "data": {
            "text/plain": [
              "(4, 5, 6)"
            ]
          },
          "metadata": {
            "tags": []
          },
          "execution_count": 11
        }
      ]
    },
    {
      "cell_type": "code",
      "metadata": {
        "id": "TpRonWfZzdkf",
        "outputId": "1b15c8cc-de81-4434-8024-e3cb70f5dbf7",
        "colab": {
          "base_uri": "https://localhost:8080/",
          "height": 34
        }
      },
      "source": [
        "# sets\n",
        "{5,6,7,8,\"a\",\"a\",\"s\",6,7,8}"
      ],
      "execution_count": 13,
      "outputs": [
        {
          "output_type": "execute_result",
          "data": {
            "text/plain": [
              "{5, 6, 7, 8, 'a', 's'}"
            ]
          },
          "metadata": {
            "tags": []
          },
          "execution_count": 13
        }
      ]
    },
    {
      "cell_type": "code",
      "metadata": {
        "id": "aZZuP4bSzdki",
        "outputId": "8779f023-1dac-441f-d82a-4bb6d579a616"
      },
      "source": [
        "#dictionary \n",
        "d= {\"a\":1, \"b\":2, \"c\":3}\n",
        "d[\"a\"]"
      ],
      "execution_count": null,
      "outputs": [
        {
          "output_type": "execute_result",
          "data": {
            "text/plain": [
              "1"
            ]
          },
          "metadata": {
            "tags": []
          },
          "execution_count": 5
        }
      ]
    },
    {
      "cell_type": "code",
      "metadata": {
        "id": "yVpAvDa9zdkm",
        "outputId": "4d97e51a-1657-4879-b44e-3024ec6cc016"
      },
      "source": [
        "## loop and index\n",
        "for i in range(4):\n",
        "    print(i)"
      ],
      "execution_count": null,
      "outputs": [
        {
          "output_type": "stream",
          "text": [
            "0\n",
            "1\n",
            "2\n",
            "3\n"
          ],
          "name": "stdout"
        }
      ]
    },
    {
      "cell_type": "markdown",
      "metadata": {
        "id": "0wtlegx8zdko"
      },
      "source": [
        "# PyTorch\n",
        "- import torch package\n",
        "- tensor basics\n",
        "- tensor indexing\n",
        "- reshaping operation \n",
        "- tensor operation "
      ]
    },
    {
      "cell_type": "code",
      "metadata": {
        "id": "f0lV7VSLzdkp"
      },
      "source": [
        ""
      ],
      "execution_count": 4,
      "outputs": []
    },
    {
      "cell_type": "code",
      "metadata": {
        "id": "4rKYuyi6zdkr",
        "outputId": "af66a26d-73f7-42d2-d85f-5b35b378fa2c"
      },
      "source": [
        "conda install pytorch-cpu torchvision-cpu -c pytorch"
      ],
      "execution_count": null,
      "outputs": [
        {
          "output_type": "stream",
          "text": [
            "Collecting package metadata (current_repodata.json): failed\n",
            "\n",
            "ProxyError: Conda cannot proceed due to an error in your proxy configuration.\n",
            "Check for typos and other configuration errors in any '.netrc' file in your home directory,\n",
            "any environment variables ending in '_PROXY', and any other system-wide proxy\n",
            "configuration settings.\n",
            "\n",
            "\n",
            "\n",
            "Note: you may need to restart the kernel to use updated packages.\n"
          ],
          "name": "stdout"
        }
      ]
    },
    {
      "cell_type": "code",
      "metadata": {
        "id": "oppiOvPEzdku",
        "outputId": "fd4508db-7000-4513-d657-1f0cd8115f26",
        "colab": {
          "base_uri": "https://localhost:8080/",
          "height": 34
        }
      },
      "source": [
        "# import torch\n",
        "import torch\n",
        "print(torch.__version__)\n",
        "import torchvision\n"
      ],
      "execution_count": 5,
      "outputs": [
        {
          "output_type": "stream",
          "text": [
            "1.6.0+cu101\n"
          ],
          "name": "stdout"
        }
      ]
    },
    {
      "cell_type": "code",
      "metadata": {
        "scrolled": true,
        "id": "P5jFE6cSzdkw",
        "outputId": "b6a0a5c8-5ac9-4c08-9d7e-f9e306ee7773",
        "colab": {
          "base_uri": "https://localhost:8080/",
          "height": 221
        }
      },
      "source": [
        "# Tensor Basics\n",
        "## creating and accessing tensors\n",
        "### Create a rank 1 tensor from a Python list\n",
        "a = torch.tensor([4, 5, 6])\n",
        "print('Here is a:')\n",
        "print(a)\n",
        "print('type(a): ', type(a))\n",
        "print('rank of a: ', a.dim())\n",
        "print('a.shape: ', a.shape)\n",
        "\n",
        "# Access elements using square brackets\n",
        "print()\n",
        "print('a[0]: ', a[0])\n",
        "print('type(a[0]): ', type(a[0]))\n",
        "print('type(a[0].item()): ', type(a[0].item()))\n",
        "\n",
        "# Mutate elements using square brackets\n",
        "a[1] = 10\n",
        "print()\n",
        "print('a after mutating:')\n",
        "print(a)"
      ],
      "execution_count": 6,
      "outputs": [
        {
          "output_type": "stream",
          "text": [
            "Here is a:\n",
            "tensor([4, 5, 6])\n",
            "type(a):  <class 'torch.Tensor'>\n",
            "rank of a:  1\n",
            "a.shape:  torch.Size([3])\n",
            "\n",
            "a[0]:  tensor(4)\n",
            "type(a[0]):  <class 'torch.Tensor'>\n",
            "type(a[0].item()):  <class 'int'>\n",
            "\n",
            "a after mutating:\n",
            "tensor([ 4, 10,  6])\n"
          ],
          "name": "stdout"
        }
      ]
    },
    {
      "cell_type": "code",
      "metadata": {
        "id": "v6FQ9ERQzdky",
        "outputId": "df74bf79-0f2f-4807-d356-df4da41654a2",
        "colab": {
          "base_uri": "https://localhost:8080/",
          "height": 221
        }
      },
      "source": [
        "# Create a two-dimensional tensor\n",
        "b = torch.tensor([[4, 5, 6], [7, 8, 8]])\n",
        "print('Here is b:')\n",
        "print(b)\n",
        "print('rank of b:', b.dim())\n",
        "print('b.shape: ', b.shape)\n",
        "\n",
        "# Access elements from a multidimensional tensor\n",
        "print()\n",
        "print('b[0, 1]:', b[0, 1])\n",
        "print('b[1, 2]:', b[1, 2])\n",
        "\n",
        "# Mutate elements of a multidimensional tensor\n",
        "b[1, 1] = 100\n",
        "print() \n",
        "print('b after mutating:')\n",
        "print(b)"
      ],
      "execution_count": 14,
      "outputs": [
        {
          "output_type": "stream",
          "text": [
            "Here is b:\n",
            "tensor([[4, 5, 6],\n",
            "        [7, 8, 8]])\n",
            "rank of b: 2\n",
            "b.shape:  torch.Size([2, 3])\n",
            "\n",
            "b[0, 1]: tensor(5)\n",
            "b[1, 2]: tensor(8)\n",
            "\n",
            "b after mutating:\n",
            "tensor([[  4,   5,   6],\n",
            "        [  7, 100,   8]])\n"
          ],
          "name": "stdout"
        }
      ]
    },
    {
      "cell_type": "code",
      "metadata": {
        "id": "RY-O661Ezdk0",
        "outputId": "0979439f-6176-473b-9dbe-c7d2ea736acc",
        "colab": {
          "base_uri": "https://localhost:8080/",
          "height": 306
        }
      },
      "source": [
        "# tensor constructors\n",
        "## Create a tensor of all zeros\n",
        "a = torch.zeros(2, 3)\n",
        "print('tensor of zeros:')\n",
        "print(a)\n",
        "\n",
        "# Create a tensor of all ones\n",
        "b = torch.ones(1, 2)\n",
        "print('\\ntensor of ones:')\n",
        "print(b)\n",
        "\n",
        "# Create a 3x3 identity matrix\n",
        "c = torch.eye(3)\n",
        "print('\\nidentity matrix:')\n",
        "print(c)\n",
        "\n",
        "# Tensor of random values\n",
        "d = torch.rand(4, 5)\n",
        "print('\\nrandom tensor:')\n",
        "print(d)"
      ],
      "execution_count": 15,
      "outputs": [
        {
          "output_type": "stream",
          "text": [
            "tensor of zeros:\n",
            "tensor([[0., 0., 0.],\n",
            "        [0., 0., 0.]])\n",
            "\n",
            "tensor of ones:\n",
            "tensor([[1., 1.]])\n",
            "\n",
            "identity matrix:\n",
            "tensor([[1., 0., 0.],\n",
            "        [0., 1., 0.],\n",
            "        [0., 0., 1.]])\n",
            "\n",
            "random tensor:\n",
            "tensor([[0.5552, 0.9300, 0.0871, 0.5010, 0.7862],\n",
            "        [0.8285, 0.5115, 0.6713, 0.8411, 0.0080],\n",
            "        [0.4388, 0.7705, 0.4976, 0.5782, 0.7696],\n",
            "        [0.5477, 0.3867, 0.0688, 0.8695, 0.5057]])\n"
          ],
          "name": "stdout"
        }
      ]
    },
    {
      "cell_type": "code",
      "metadata": {
        "id": "v-Wc3s1Lzdk3",
        "outputId": "c9484cdd-3485-43b6-bf40-cf1089d245b4",
        "colab": {
          "base_uri": "https://localhost:8080/",
          "height": 323
        }
      },
      "source": [
        "# datatypes\n",
        "## Let torch choose the datatype\n",
        "x0 = torch.tensor([1, 2])   # List of integers\n",
        "x1 = torch.tensor([1., 2.]) # List of floats\n",
        "x2 = torch.tensor([1., 2])  # Mixed list\n",
        "print('dtype when torch chooses for us:')\n",
        "print('List of integers:', x0.dtype)\n",
        "print('List of floats:', x1.dtype)\n",
        "print('Mixed list:', x2.dtype)\n",
        "\n",
        "# Force a particular datatype\n",
        "y0 = torch.tensor([1, 2], dtype=torch.float32)  # 32-bit float\n",
        "y1 = torch.tensor([1, 2], dtype=torch.int32)    # 32-bit (signed) integer\n",
        "y2 = torch.tensor([1, 2], dtype=torch.int64)    # 64-bit (signed) integer\n",
        "print('\\ndtype when we force a datatype:')\n",
        "print('32-bit float: ', y0.dtype)\n",
        "print('32-bit integer: ', y1.dtype)\n",
        "print('64-bit integer: ', y2.dtype)\n",
        "\n",
        "x0 = torch.eye(3, dtype=torch.int64)\n",
        "x1 = x0.float()  # Cast to 32-bit float\n",
        "x2 = x0.double() # Cast to 64-bit float\n",
        "x3 = x0.to(torch.float32) # Alternate way to cast to 32-bit float\n",
        "x4 = x0.to(torch.float64) # Alternate way to cast to 64-bit float\n",
        "print('x0:', x0.dtype)\n",
        "print('x1:', x1.dtype)\n",
        "print('x2:', x2.dtype)\n",
        "print('x3:', x3.dtype)\n",
        "print('x4:', x4.dtype)\n",
        "x0 = torch.eye(3, dtype=torch.float64)  # Shape (3, 3), dtype torch.float64\n",
        "x1 = torch.zeros_like(x0)               # Shape (3, 3), dtype torch.float64\n",
        "x2 = x0.new_zeros(4, 5)                 # Shape (4, 5), dtype torch.float64\n",
        "x3 = torch.ones(6, 7).to(x0)            # Shape (6, 7), dtype torch.float64)\n",
        "print('x0 shape is %r, dtype is %r' % (x0.shape, x0.dtype))\n",
        "print('x1 shape is %r, dtype is %r' % (x1.shape, x1.dtype))\n",
        "print('x2 shape is %r, dtype is %r' % (x2.shape, x2.dtype))\n",
        "print('x3 shape is %r, dtype is %r' % (x3.shape, x3.dtype))"
      ],
      "execution_count": 17,
      "outputs": [
        {
          "output_type": "stream",
          "text": [
            "dtype when torch chooses for us:\n",
            "List of integers: torch.int64\n",
            "List of floats: torch.float32\n",
            "Mixed list: torch.float32\n",
            "\n",
            "dtype when we force a datatype:\n",
            "32-bit float:  torch.float32\n",
            "32-bit integer:  torch.int32\n",
            "64-bit integer:  torch.int64\n",
            "x0: torch.int64\n",
            "x1: torch.float32\n",
            "x2: torch.float64\n",
            "x3: torch.float32\n",
            "x4: torch.float64\n",
            "x0 shape is torch.Size([3, 3]), dtype is torch.float64\n",
            "x1 shape is torch.Size([3, 3]), dtype is torch.float64\n",
            "x2 shape is torch.Size([4, 5]), dtype is torch.float64\n",
            "x3 shape is torch.Size([6, 7]), dtype is torch.float64\n"
          ],
          "name": "stdout"
        }
      ]
    },
    {
      "cell_type": "code",
      "metadata": {
        "id": "vSQuFUZKzdk5",
        "outputId": "06a0b16d-6da5-4221-886c-8353da2f2617",
        "colab": {
          "base_uri": "https://localhost:8080/",
          "height": 153
        }
      },
      "source": [
        "# tensor indexing\n",
        "## slice indexing\n",
        "a = torch.tensor([0, 10, 20, 33, 40, 50, 60])\n",
        "print(0, a)        # (0) Original tensor\n",
        "print(1, a[3:6])   # (1) Elements between index 3 and 6\n",
        "print(2, a[3:])    # (2) Elements after index 3\n",
        "print(3, a[:6])    # (3) Elements before index 6\n",
        "print(4, a[:])     # (4) All elements\n",
        "print(5, a[1:10:2]) # (5) Every second element between indices 1 and 10\n",
        "print(6, a[:-1])   # (6) All but the last element\n",
        "print(7, a[-5::3]) # (7) Every third element, starting from the fifth-last"
      ],
      "execution_count": 18,
      "outputs": [
        {
          "output_type": "stream",
          "text": [
            "0 tensor([ 0, 10, 20, 33, 40, 50, 60])\n",
            "1 tensor([33, 40, 50])\n",
            "2 tensor([33, 40, 50, 60])\n",
            "3 tensor([ 0, 10, 20, 33, 40, 50])\n",
            "4 tensor([ 0, 10, 20, 33, 40, 50, 60])\n",
            "5 tensor([10, 33, 50])\n",
            "6 tensor([ 0, 10, 20, 33, 40, 50])\n",
            "7 tensor([20, 50])\n"
          ],
          "name": "stdout"
        }
      ]
    },
    {
      "cell_type": "code",
      "metadata": {
        "id": "T5DUuF3Xzdk7",
        "outputId": "d3c62b2b-2335-4a97-d17b-6a3e23bfb7b1",
        "colab": {
          "base_uri": "https://localhost:8080/",
          "height": 663
        }
      },
      "source": [
        "\n",
        "# Create the following rank 2 tensor with shape (2, 3)\n",
        "# [[ 2  3  4]\n",
        "#  [ 5  6  8]\n",
        "#  [ 9 11 12]]\n",
        "a = torch.tensor([[2,3,4], [6,7,8], [9,11,12]])\n",
        "print('Original tensor:')\n",
        "print(a)\n",
        "print('shape: ', a.shape)\n",
        "\n",
        "# Get row 1, and all columns. \n",
        "print('\\nSingle row:')\n",
        "print(a[1, :])\n",
        "print(a[1])  # Gives the same result; we can omit : for trailing dimensions\n",
        "print('shape: ', a[1].shape)\n",
        "\n",
        "print('\\nSingle column:')\n",
        "print(a[:, 1])\n",
        "print('shape: ', a[:, 1].shape)\n",
        "\n",
        "# Get the first two rows and the last three columns\n",
        "print('\\nFirst two rows, last two columns:')\n",
        "print(a[:2, -3:])\n",
        "print('shape: ', a[:2, -3:].shape)\n",
        "\n",
        "# Get every other row, and columns at index 1 and 2\n",
        "print('\\nEvery other row, middle columns:')\n",
        "print(a[::2, 1:3])\n",
        "print('shape: ', a[::2, 1:3].shape)\n",
        "\n",
        "a = torch.tensor([[2,3,4], [6,7,8], [9,11,12]])\n",
        "print('Original tensor')\n",
        "print(a)\n",
        "\n",
        "row_r1 = a[1, :]    # Rank 1 view of the second row of a  \n",
        "row_r2 = a[1:2, :]  # Rank 2 view of the second row of a\n",
        "print('\\nTwo ways of accessing a single row:')\n",
        "print(row_r1, row_r1.shape)\n",
        "print(row_r2, row_r2.shape)\n",
        "\n",
        "# We can make the same distinction when accessing columns::\n",
        "col_r1 = a[:, 1]\n",
        "col_r2 = a[:, 1:2]\n",
        "print('\\nTwo ways of accessing a single column:')\n",
        "print(col_r1, col_r1.shape)\n",
        "print(col_r2, col_r2.shape)\n"
      ],
      "execution_count": 19,
      "outputs": [
        {
          "output_type": "stream",
          "text": [
            "Original tensor:\n",
            "tensor([[ 2,  3,  4],\n",
            "        [ 6,  7,  8],\n",
            "        [ 9, 11, 12]])\n",
            "shape:  torch.Size([3, 3])\n",
            "\n",
            "Single row:\n",
            "tensor([6, 7, 8])\n",
            "tensor([6, 7, 8])\n",
            "shape:  torch.Size([3])\n",
            "\n",
            "Single column:\n",
            "tensor([ 3,  7, 11])\n",
            "shape:  torch.Size([3])\n",
            "\n",
            "First two rows, last two columns:\n",
            "tensor([[2, 3, 4],\n",
            "        [6, 7, 8]])\n",
            "shape:  torch.Size([2, 3])\n",
            "\n",
            "Every other row, middle columns:\n",
            "tensor([[ 3,  4],\n",
            "        [11, 12]])\n",
            "shape:  torch.Size([2, 2])\n",
            "Original tensor\n",
            "tensor([[ 2,  3,  4],\n",
            "        [ 6,  7,  8],\n",
            "        [ 9, 11, 12]])\n",
            "\n",
            "Two ways of accessing a single row:\n",
            "tensor([6, 7, 8]) torch.Size([3])\n",
            "tensor([[6, 7, 8]]) torch.Size([1, 3])\n",
            "\n",
            "Two ways of accessing a single column:\n",
            "tensor([ 3,  7, 11]) torch.Size([3])\n",
            "tensor([[ 3],\n",
            "        [ 7],\n",
            "        [11]]) torch.Size([3, 1])\n"
          ],
          "name": "stdout"
        }
      ]
    },
    {
      "cell_type": "code",
      "metadata": {
        "id": "lIlgK_cvzdk9",
        "outputId": "964430fd-359f-451d-bfc6-213b3b3f655e",
        "colab": {
          "base_uri": "https://localhost:8080/",
          "height": 221
        }
      },
      "source": [
        "# Create a tensor, a slice, and a clone of a slice\n",
        "a = torch.tensor([[5, 6, 7, 8], [9, 10, 11, 12]])\n",
        "b = a[0, 1:]\n",
        "c = a[0, 1:].clone()\n",
        "print('Before mutating:')\n",
        "print(a)\n",
        "print(b)\n",
        "print(c)\n",
        "\n",
        "a[0, 1] = 60  # a[0, 1] and b[0] point to the same element\n",
        "b[1] = 70     # b[1] and a[0, 2] point to the same element\n",
        "c[2] = 80     # c is a clone, so it has its own data\n",
        "print('\\nAfter mutating:')\n",
        "print(a)\n",
        "print(b)\n",
        "print(c)\n",
        "\n",
        "print(a.storage().data_ptr() == c.storage().data_ptr())"
      ],
      "execution_count": 20,
      "outputs": [
        {
          "output_type": "stream",
          "text": [
            "Before mutating:\n",
            "tensor([[ 5,  6,  7,  8],\n",
            "        [ 9, 10, 11, 12]])\n",
            "tensor([6, 7, 8])\n",
            "tensor([6, 7, 8])\n",
            "\n",
            "After mutating:\n",
            "tensor([[ 5, 60, 70,  8],\n",
            "        [ 9, 10, 11, 12]])\n",
            "tensor([60, 70,  8])\n",
            "tensor([ 6,  7, 80])\n",
            "False\n"
          ],
          "name": "stdout"
        }
      ]
    },
    {
      "cell_type": "code",
      "metadata": {
        "id": "361KARENzdk_",
        "outputId": "da162c2f-36db-4eee-8851-0b99abc3bc51",
        "colab": {
          "base_uri": "https://localhost:8080/",
          "height": 289
        }
      },
      "source": [
        "# integer tensor indexing\n",
        "# Create the following rank 2 tensor with shape (3, 4)\n",
        "# [[ 11  21  31  41]\n",
        "#  [ 51  61  71  81]\n",
        "#  [ 91 101 111 121]]\n",
        "a = torch.tensor([[11, 21, 31, 41], [51, 61, 71, 81], [91, 101, 111, 121]])\n",
        "print('Original tensor:')\n",
        "print(a)\n",
        "\n",
        "# Create a new tensor of shape (5, 4) by reordering rows from a:\n",
        "# - First two rows same as the first row of a\n",
        "# - Third row is the same as the last row of a\n",
        "# - Fourth and fifth rows are the same as the second row from a\n",
        "idx = [1, 0, 2, 1, 1]  # index arrays can be Python lists of integers\n",
        "print('\\nReordered rows:')\n",
        "print(a[idx])\n",
        "\n",
        "# Create a new tensor of shape (3, 4) by reversing the columns from a\n",
        "idx = torch.tensor([3, 2, 1, 0])  # Index arrays can be int64 torch tensors\n",
        "print('\\nReordered columns:')\n",
        "print(a[:, idx])\n"
      ],
      "execution_count": 22,
      "outputs": [
        {
          "output_type": "stream",
          "text": [
            "Original tensor:\n",
            "tensor([[ 11,  21,  31,  41],\n",
            "        [ 51,  61,  71,  81],\n",
            "        [ 91, 101, 111, 121]])\n",
            "\n",
            "Reordered rows:\n",
            "tensor([[ 51,  61,  71,  81],\n",
            "        [ 11,  21,  31,  41],\n",
            "        [ 91, 101, 111, 121],\n",
            "        [ 51,  61,  71,  81],\n",
            "        [ 51,  61,  71,  81]])\n",
            "\n",
            "Reordered columns:\n",
            "tensor([[ 41,  31,  21,  11],\n",
            "        [ 81,  71,  61,  51],\n",
            "        [121, 111, 101,  91]])\n"
          ],
          "name": "stdout"
        }
      ]
    },
    {
      "cell_type": "code",
      "metadata": {
        "id": "81ZfYBoSzdlB",
        "outputId": "64785073-0f78-4e60-83e5-0713610c27be",
        "colab": {
          "base_uri": "https://localhost:8080/",
          "height": 221
        }
      },
      "source": [
        "a = torch.tensor([[11, 21, 31], [41, 51, 61], [71, 81, 91]])\n",
        "print('Original tensor:')\n",
        "print(a)\n",
        "\n",
        "idx = [0, 1, 2]\n",
        "print('\\nGet the diagonal:')\n",
        "print(a[idx, idx])\n",
        "\n",
        "# Modify the diagonal\n",
        "a[idx, idx] = torch.tensor([11, 22, 33])\n",
        "print('\\nAfter setting the diagonal:')\n",
        "print(a)"
      ],
      "execution_count": 23,
      "outputs": [
        {
          "output_type": "stream",
          "text": [
            "Original tensor:\n",
            "tensor([[11, 21, 31],\n",
            "        [41, 51, 61],\n",
            "        [71, 81, 91]])\n",
            "\n",
            "Get the diagonal:\n",
            "tensor([11, 51, 91])\n",
            "\n",
            "After setting the diagonal:\n",
            "tensor([[11, 21, 31],\n",
            "        [41, 22, 61],\n",
            "        [71, 81, 33]])\n"
          ],
          "name": "stdout"
        }
      ]
    },
    {
      "cell_type": "code",
      "metadata": {
        "id": "8xNti0b5zdlD",
        "outputId": "e7e0b239-98cf-468a-a922-4979e157c456",
        "colab": {
          "base_uri": "https://localhost:8080/",
          "height": 255
        }
      },
      "source": [
        "# Create a new tensor from which we will select elements\n",
        "a = torch.tensor([[11, 21, 31], [41, 51, 61], [71, 81, 91], [101, 111, 121]])\n",
        "print('Original tensor:')\n",
        "print(a)\n",
        "\n",
        "# Take on element from each row of a:\n",
        "# from row 0, take element 0;\n",
        "# from row 1, take element 1;\n",
        "# from row 2, take element 2;\n",
        "# from row 3, take element 1\n",
        "idx0 = torch.arange(a.shape[0])  # Quick way to build [0, 1, 2, 1]\n",
        "idx1 = torch.tensor([0, 1, 2, 1])\n",
        "print('\\nSelect one element from each row:')\n",
        "print(a[idx0, idx1])\n",
        "\n",
        "# Now set each of those elements to zero\n",
        "a[idx0, idx1] = 0\n",
        "print('\\nAfter modifying one element from each row:')\n",
        "print(a)"
      ],
      "execution_count": 24,
      "outputs": [
        {
          "output_type": "stream",
          "text": [
            "Original tensor:\n",
            "tensor([[ 11,  21,  31],\n",
            "        [ 41,  51,  61],\n",
            "        [ 71,  81,  91],\n",
            "        [101, 111, 121]])\n",
            "\n",
            "Select one element from each row:\n",
            "tensor([ 11,  51,  91, 111])\n",
            "\n",
            "After modifying one element from each row:\n",
            "tensor([[  0,  21,  31],\n",
            "        [ 41,   0,  61],\n",
            "        [ 71,  81,   0],\n",
            "        [101,   0, 121]])\n"
          ],
          "name": "stdout"
        }
      ]
    },
    {
      "cell_type": "code",
      "metadata": {
        "scrolled": true,
        "id": "T9cpKyJMzdlH",
        "outputId": "919a3463-e3b9-4d77-e4e0-9c5fac7244d3",
        "colab": {
          "base_uri": "https://localhost:8080/",
          "height": 306
        }
      },
      "source": [
        "# Boolean tensor indexing\n",
        "a = torch.tensor([[10,20], [30, 40], [50, 60]])\n",
        "print('Original tensor:')\n",
        "print(a)\n",
        "\n",
        "# Find the elements of a that are bigger than 30. The mask has the same shape as\n",
        "# a, where each element of mask tells whether the corresponding element of a\n",
        "# is greater than three.\n",
        "mask = (a > 30)\n",
        "print('\\nMask tensor:')\n",
        "print(mask)\n",
        "\n",
        "# We can use the mask to construct a rank-1 tensor containing the elements of a\n",
        "# that are selected by the mask\n",
        "print('\\nSelecting elements with the mask:')\n",
        "print(a[mask])\n",
        "\n",
        "# We can also use boolean masks to modify tensors; for example this sets all\n",
        "# elements <= 30 to zero:\n",
        "a[a <= 30] = 0\n",
        "print('\\nAfter modifying with a mask:')\n",
        "print(a)"
      ],
      "execution_count": 25,
      "outputs": [
        {
          "output_type": "stream",
          "text": [
            "Original tensor:\n",
            "tensor([[10, 20],\n",
            "        [30, 40],\n",
            "        [50, 60]])\n",
            "\n",
            "Mask tensor:\n",
            "tensor([[False, False],\n",
            "        [False,  True],\n",
            "        [ True,  True]])\n",
            "\n",
            "Selecting elements with the mask:\n",
            "tensor([40, 50, 60])\n",
            "\n",
            "After modifying with a mask:\n",
            "tensor([[ 0,  0],\n",
            "        [ 0, 40],\n",
            "        [50, 60]])\n"
          ],
          "name": "stdout"
        }
      ]
    },
    {
      "cell_type": "code",
      "metadata": {
        "id": "h03u4kCVzdlJ",
        "outputId": "0030061c-c6da-4d62-a9f2-c528af4e8c10",
        "colab": {
          "base_uri": "https://localhost:8080/",
          "height": 544
        }
      },
      "source": [
        "# reshaping operation \n",
        "## view\n",
        "x0 = torch.tensor([[11, 21, 31, 41], [51, 61, 71, 81]])\n",
        "print('Original tensor:')\n",
        "print(x0)\n",
        "print('shape:', x0.shape)\n",
        "\n",
        "# Flatten x0 into a rank 1 vector of shape (8,)\n",
        "x1 = x0.view(8)\n",
        "print('\\nFlattened tensor:')\n",
        "print(x1)\n",
        "print('shape:', x1.shape)\n",
        "\n",
        "# Convert x1 to a rank 2 \"row vector\" of shape (1, 8)\n",
        "x2 = x1.view(1, 8)\n",
        "print('\\nRow vector:')\n",
        "print(x2)\n",
        "print('shape:', x2.shape)\n",
        "\n",
        "# Convert x1 to a rank 2 \"column vector\" of shape (8, 1)\n",
        "x3 = x1.view(8, 1)\n",
        "print('\\nColumn vector:')\n",
        "print(x3)\n",
        "print('shape:', x3.shape)\n",
        "\n",
        "# Convert x1 to a rank 3 tensor of shape (2, 2, 2):\n",
        "x4 = x1.view(2, 2, 2)\n",
        "print('\\nRank 3 tensor:')\n",
        "print(x4)\n",
        "print('shape:', x4.shape)"
      ],
      "execution_count": 26,
      "outputs": [
        {
          "output_type": "stream",
          "text": [
            "Original tensor:\n",
            "tensor([[11, 21, 31, 41],\n",
            "        [51, 61, 71, 81]])\n",
            "shape: torch.Size([2, 4])\n",
            "\n",
            "Flattened tensor:\n",
            "tensor([11, 21, 31, 41, 51, 61, 71, 81])\n",
            "shape: torch.Size([8])\n",
            "\n",
            "Row vector:\n",
            "tensor([[11, 21, 31, 41, 51, 61, 71, 81]])\n",
            "shape: torch.Size([1, 8])\n",
            "\n",
            "Column vector:\n",
            "tensor([[11],\n",
            "        [21],\n",
            "        [31],\n",
            "        [41],\n",
            "        [51],\n",
            "        [61],\n",
            "        [71],\n",
            "        [81]])\n",
            "shape: torch.Size([8, 1])\n",
            "\n",
            "Rank 3 tensor:\n",
            "tensor([[[11, 21],\n",
            "         [31, 41]],\n",
            "\n",
            "        [[51, 61],\n",
            "         [71, 81]]])\n",
            "shape: torch.Size([2, 2, 2])\n"
          ],
          "name": "stdout"
        }
      ]
    },
    {
      "cell_type": "code",
      "metadata": {
        "id": "Mbp2HQyIzdlL",
        "outputId": "ec516b65-baf7-4615-9ad8-36b099740d92",
        "colab": {
          "base_uri": "https://localhost:8080/",
          "height": 170
        }
      },
      "source": [
        "# We can reuse these functions for tensors of different shapes\n",
        "x0 = torch.tensor([[10, 20, 30], [40, 50, 60]])\n",
        "x1 = x0.view(-1, )\n",
        "x2 = x0.view(-1, 2)\n",
        "\n",
        "print('x0:')\n",
        "print(x0)\n",
        "\n",
        "print('x1:')\n",
        "print(x1)\n",
        "\n",
        "print('x2:')\n",
        "print(x2)"
      ],
      "execution_count": 27,
      "outputs": [
        {
          "output_type": "stream",
          "text": [
            "x0:\n",
            "tensor([[10, 20, 30],\n",
            "        [40, 50, 60]])\n",
            "x1:\n",
            "tensor([10, 20, 30, 40, 50, 60])\n",
            "x2:\n",
            "tensor([[10, 20],\n",
            "        [30, 40],\n",
            "        [50, 60]])\n"
          ],
          "name": "stdout"
        }
      ]
    },
    {
      "cell_type": "code",
      "metadata": {
        "id": "hwyYJbH1zdlN",
        "outputId": "46c8071c-8949-4d6a-b238-ffda99d0efd6",
        "colab": {
          "base_uri": "https://localhost:8080/",
          "height": 204
        }
      },
      "source": [
        "x = torch.tensor([[10, 20, 30], [40, 50, 60]])\n",
        "x_flat = x.view(-1)\n",
        "print('x before modifying:')\n",
        "print(x)\n",
        "print('x_flat before modifying:')\n",
        "print(x_flat)\n",
        "\n",
        "x[0, 0] = 1   # x[0, 0] and x_flat[0] point to the same data\n",
        "x_flat[1] = 2 # x_flat[1] and x[0, 1] point to the same data\n",
        "\n",
        "print('\\nx after modifying:')\n",
        "print(x)\n",
        "print('x_flat after modifying:')\n",
        "print(x_flat)\n"
      ],
      "execution_count": 28,
      "outputs": [
        {
          "output_type": "stream",
          "text": [
            "x before modifying:\n",
            "tensor([[10, 20, 30],\n",
            "        [40, 50, 60]])\n",
            "x_flat before modifying:\n",
            "tensor([10, 20, 30, 40, 50, 60])\n",
            "\n",
            "x after modifying:\n",
            "tensor([[ 1,  2, 30],\n",
            "        [40, 50, 60]])\n",
            "x_flat after modifying:\n",
            "tensor([ 1,  2, 30, 40, 50, 60])\n"
          ],
          "name": "stdout"
        }
      ]
    },
    {
      "cell_type": "code",
      "metadata": {
        "scrolled": true,
        "id": "V-KmXUo_zdlP",
        "outputId": "844efd4d-2455-43a3-e813-87d489ddace9",
        "colab": {
          "base_uri": "https://localhost:8080/",
          "height": 289
        }
      },
      "source": [
        "# swapping axes\n",
        "x = torch.tensor([[11, 21, 31], [41, 51, 61]])\n",
        "print('Original matrix:')\n",
        "print(x)\n",
        "print('\\nTransposing with view DOES NOT WORK!')\n",
        "print(x.view(3, 2))\n",
        "print('\\nTransposed matrix:')\n",
        "print(torch.t(x))\n",
        "print(x.t())"
      ],
      "execution_count": 29,
      "outputs": [
        {
          "output_type": "stream",
          "text": [
            "Original matrix:\n",
            "tensor([[11, 21, 31],\n",
            "        [41, 51, 61]])\n",
            "\n",
            "Transposing with view DOES NOT WORK!\n",
            "tensor([[11, 21],\n",
            "        [31, 41],\n",
            "        [51, 61]])\n",
            "\n",
            "Transposed matrix:\n",
            "tensor([[11, 41],\n",
            "        [21, 51],\n",
            "        [31, 61]])\n",
            "tensor([[11, 41],\n",
            "        [21, 51],\n",
            "        [31, 61]])\n"
          ],
          "name": "stdout"
        }
      ]
    },
    {
      "cell_type": "markdown",
      "metadata": {
        "collapsed": true,
        "id": "PuH7wCjjzdlR"
      },
      "source": [
        "<a id='4.2'></a>"
      ]
    },
    {
      "cell_type": "code",
      "metadata": {
        "id": "6lv6CZYQzdlS",
        "outputId": "62293442-f816-464f-d31e-7eb806d8c0e5",
        "colab": {
          "base_uri": "https://localhost:8080/",
          "height": 663
        }
      },
      "source": [
        "# Create a tensor of shape (2, 3, 4)\n",
        "x0 = torch.tensor([\n",
        "     [[1,  2,  3,  4],\n",
        "      [5,  6,  7,  8],\n",
        "      [9, 10, 11, 12]],\n",
        "     [[31, 41, 51, 61],\n",
        "      [71, 81, 91, 20],\n",
        "      [21, 22, 23, 24]]])\n",
        "print('Original tensor:')\n",
        "print(x0)\n",
        "print('shape:', x0.shape)\n",
        "\n",
        "# Swap axes 1 and 2; shape is (2, 4, 3)\n",
        "x1 = x0.transpose(1, 2)\n",
        "print('\\nSwap axes 1 and 2:')\n",
        "print(x1)\n",
        "print(x1.shape)\n",
        "\n",
        "# Permute axes; the argument (1, 2, 0) means:\n",
        "# - Make the old dimension 1 appear at dimension 0;\n",
        "# - Make the old dimension 2 appear at dimension 1;\n",
        "# - Make the old dimension 0 appear at dimension 2\n",
        "# This results in a tensor of shape (3, 4, 2)\n",
        "x2 = x0.permute(1, 2, 0)\n",
        "print('\\nPermute axes')\n",
        "print(x2)\n",
        "print('shape:', x2.shape)"
      ],
      "execution_count": 30,
      "outputs": [
        {
          "output_type": "stream",
          "text": [
            "Original tensor:\n",
            "tensor([[[ 1,  2,  3,  4],\n",
            "         [ 5,  6,  7,  8],\n",
            "         [ 9, 10, 11, 12]],\n",
            "\n",
            "        [[31, 41, 51, 61],\n",
            "         [71, 81, 91, 20],\n",
            "         [21, 22, 23, 24]]])\n",
            "shape: torch.Size([2, 3, 4])\n",
            "\n",
            "Swap axes 1 and 2:\n",
            "tensor([[[ 1,  5,  9],\n",
            "         [ 2,  6, 10],\n",
            "         [ 3,  7, 11],\n",
            "         [ 4,  8, 12]],\n",
            "\n",
            "        [[31, 71, 21],\n",
            "         [41, 81, 22],\n",
            "         [51, 91, 23],\n",
            "         [61, 20, 24]]])\n",
            "torch.Size([2, 4, 3])\n",
            "\n",
            "Permute axes\n",
            "tensor([[[ 1, 31],\n",
            "         [ 2, 41],\n",
            "         [ 3, 51],\n",
            "         [ 4, 61]],\n",
            "\n",
            "        [[ 5, 71],\n",
            "         [ 6, 81],\n",
            "         [ 7, 91],\n",
            "         [ 8, 20]],\n",
            "\n",
            "        [[ 9, 21],\n",
            "         [10, 22],\n",
            "         [11, 23],\n",
            "         [12, 24]]])\n",
            "shape: torch.Size([3, 4, 2])\n"
          ],
          "name": "stdout"
        }
      ]
    },
    {
      "cell_type": "code",
      "metadata": {
        "id": "z3ndk0lBzdlU",
        "outputId": "27be0959-f635-4aea-b7d2-1fc1d133efe1",
        "colab": {
          "base_uri": "https://localhost:8080/",
          "height": 88
        }
      },
      "source": [
        "# contiguous tensors\n",
        "x0 = torch.randn(2, 3, 4)\n",
        "\n",
        "try:\n",
        "  # This sequence of reshape operations will crash\n",
        "  x1 = x0.transpose(1, 2).view(8, 3)\n",
        "except RuntimeError as e:\n",
        "  print(type(e), e)\n",
        "  \n",
        "# We can solve the problem using either .contiguous() or .reshape()\n",
        "x1 = x0.transpose(1, 2).contiguous().view(8, 3)\n",
        "x2 = x0.transpose(1, 2).reshape(8, 3)\n",
        "print('x1 shape: ', x1.shape)\n",
        "print('x2 shape: ', x2.shape)"
      ],
      "execution_count": 31,
      "outputs": [
        {
          "output_type": "stream",
          "text": [
            "<class 'RuntimeError'> view size is not compatible with input tensor's size and stride (at least one dimension spans across two contiguous subspaces). Use .reshape(...) instead.\n",
            "x1 shape:  torch.Size([8, 3])\n",
            "x2 shape:  torch.Size([8, 3])\n"
          ],
          "name": "stdout"
        }
      ]
    },
    {
      "cell_type": "code",
      "metadata": {
        "id": "dIuXOiP1zdlW",
        "outputId": "ea54e580-e8e6-4239-cfc7-feee591b3993",
        "colab": {
          "base_uri": "https://localhost:8080/",
          "height": 425
        }
      },
      "source": [
        "# tensor operations\n",
        "## elementwise operation \n",
        "x = torch.tensor([[10, 21, 31, 40]], dtype=torch.float32)\n",
        "y = torch.tensor([[50, 61, 71, 80]], dtype=torch.float32)\n",
        "\n",
        "# Elementwise sum; all give the same result\n",
        "print('Elementwise sum:')\n",
        "print(x + y)\n",
        "print(torch.add(x, y))\n",
        "print(x.add(y))\n",
        "\n",
        "# Elementwise difference\n",
        "print('\\nElementwise difference:')\n",
        "print(x - y)\n",
        "print(torch.sub(x, y))\n",
        "print(x.sub(y))\n",
        "\n",
        "# Elementwise product\n",
        "print('\\nElementwise product:')\n",
        "print(x * y)\n",
        "print(torch.mul(x, y))\n",
        "print(x.mul(y))\n",
        "\n",
        "# Elementwise division\n",
        "print('\\nElementwise division')\n",
        "print(x / y)\n",
        "print(torch.div(x, y))\n",
        "print(x.div(y))\n",
        "\n",
        "# Elementwise power\n",
        "print('\\nElementwise power')\n",
        "print(x ** y)\n",
        "print(torch.pow(x, y))\n",
        "print(x.pow(y))"
      ],
      "execution_count": 32,
      "outputs": [
        {
          "output_type": "stream",
          "text": [
            "Elementwise sum:\n",
            "tensor([[ 60.,  82., 102., 120.]])\n",
            "tensor([[ 60.,  82., 102., 120.]])\n",
            "tensor([[ 60.,  82., 102., 120.]])\n",
            "\n",
            "Elementwise difference:\n",
            "tensor([[-40., -40., -40., -40.]])\n",
            "tensor([[-40., -40., -40., -40.]])\n",
            "tensor([[-40., -40., -40., -40.]])\n",
            "\n",
            "Elementwise product:\n",
            "tensor([[ 500., 1281., 2201., 3200.]])\n",
            "tensor([[ 500., 1281., 2201., 3200.]])\n",
            "tensor([[ 500., 1281., 2201., 3200.]])\n",
            "\n",
            "Elementwise division\n",
            "tensor([[0.2000, 0.3443, 0.4366, 0.5000]])\n",
            "tensor([[0.2000, 0.3443, 0.4366, 0.5000]])\n",
            "tensor([[0.2000, 0.3443, 0.4366, 0.5000]])\n",
            "\n",
            "Elementwise power\n",
            "tensor([[inf, inf, inf, inf]])\n",
            "tensor([[inf, inf, inf, inf]])\n",
            "tensor([[inf, inf, inf, inf]])\n"
          ],
          "name": "stdout"
        }
      ]
    },
    {
      "cell_type": "code",
      "metadata": {
        "id": "cvHwWn4yzdlY",
        "outputId": "6d0bbcea-5c54-48ca-ce95-8a7a4fcd99fb",
        "colab": {
          "base_uri": "https://localhost:8080/",
          "height": 170
        }
      },
      "source": [
        "\n",
        "x = torch.tensor([[5, 6, 7, 8]], dtype=torch.float32)\n",
        "\n",
        "print('Square root:')\n",
        "print(torch.sqrt(x))\n",
        "print(x.sqrt())\n",
        "\n",
        "print('\\nTrig functions:')\n",
        "print(torch.sin(x))\n",
        "print(x.sin())\n",
        "print(torch.cos(x))\n",
        "print(x.cos())"
      ],
      "execution_count": 33,
      "outputs": [
        {
          "output_type": "stream",
          "text": [
            "Square root:\n",
            "tensor([[2.2361, 2.4495, 2.6458, 2.8284]])\n",
            "tensor([[2.2361, 2.4495, 2.6458, 2.8284]])\n",
            "\n",
            "Trig functions:\n",
            "tensor([[-0.9589, -0.2794,  0.6570,  0.9894]])\n",
            "tensor([[-0.9589, -0.2794,  0.6570,  0.9894]])\n",
            "tensor([[ 0.2837,  0.9602,  0.7539, -0.1455]])\n",
            "tensor([[ 0.2837,  0.9602,  0.7539, -0.1455]])\n"
          ],
          "name": "stdout"
        }
      ]
    },
    {
      "cell_type": "code",
      "metadata": {
        "id": "YnuPbZ15zdla",
        "outputId": "ec32116f-a82d-4462-d408-825956cb872e",
        "colab": {
          "base_uri": "https://localhost:8080/",
          "height": 272
        }
      },
      "source": [
        "## reduction operations\n",
        "x = torch.tensor([[10, 20, 30], \n",
        "                  [40, 50, 60]], dtype=torch.float32)\n",
        "print('Original tensor:')\n",
        "print(x)\n",
        "\n",
        "print('\\nSum over entire tensor:')\n",
        "print(torch.sum(x))\n",
        "print(x.sum())\n",
        "\n",
        "# We can sum over each row:\n",
        "print('\\nSum of each row:')\n",
        "print(torch.sum(x, dim=0))\n",
        "print(x.sum(dim=0))\n",
        "\n",
        "# Sum over each column:\n",
        "print('\\nSum of each column:')\n",
        "print(torch.sum(x, dim=1))\n",
        "print(x.sum(dim=1))"
      ],
      "execution_count": 34,
      "outputs": [
        {
          "output_type": "stream",
          "text": [
            "Original tensor:\n",
            "tensor([[10., 20., 30.],\n",
            "        [40., 50., 60.]])\n",
            "\n",
            "Sum over entire tensor:\n",
            "tensor(210.)\n",
            "tensor(210.)\n",
            "\n",
            "Sum of each row:\n",
            "tensor([50., 70., 90.])\n",
            "tensor([50., 70., 90.])\n",
            "\n",
            "Sum of each column:\n",
            "tensor([ 60., 150.])\n",
            "tensor([ 60., 150.])\n"
          ],
          "name": "stdout"
        }
      ]
    },
    {
      "cell_type": "code",
      "metadata": {
        "id": "IUKgTyDmzdlb",
        "outputId": "1585dde3-9cff-41f3-a1db-d77f0e979fa7",
        "colab": {
          "base_uri": "https://localhost:8080/",
          "height": 238
        }
      },
      "source": [
        "x = torch.tensor([[21, 40, 13, 15], [31, 31, 51, 21]], dtype=torch.float32)\n",
        "print('Original tensor:')\n",
        "print(x, x.shape)\n",
        "\n",
        "# Finding the overall minimum only returns a single value\n",
        "print('\\nOverall minimum: ', x.min())\n",
        "\n",
        "# Compute the minimum along each column; we get both the value and location:\n",
        "# The minimum of the first column is 2, and it appears at index 0;\n",
        "# the minimum of the second column is 3 and it appears at index 1; etc\n",
        "col_min_vals, col_min_idxs = x.min(dim=0)\n",
        "print('\\nMinimum along each column:')\n",
        "print('values:', col_min_vals)\n",
        "print('idxs:', col_min_idxs)\n",
        " \n",
        "# Compute the minimum along each row; we get both the value and location \n",
        "row_min_vals, row_min_idxs = x.min(dim=1)\n",
        "print('\\nMinimum along each row:')\n",
        "print('values:', row_min_vals)\n",
        "print('idxs:', row_min_idxs)"
      ],
      "execution_count": 35,
      "outputs": [
        {
          "output_type": "stream",
          "text": [
            "Original tensor:\n",
            "tensor([[21., 40., 13., 15.],\n",
            "        [31., 31., 51., 21.]]) torch.Size([2, 4])\n",
            "\n",
            "Overall minimum:  tensor(13.)\n",
            "\n",
            "Minimum along each column:\n",
            "values: tensor([21., 31., 13., 15.])\n",
            "idxs: tensor([0, 1, 0, 0])\n",
            "\n",
            "Minimum along each row:\n",
            "values: tensor([13., 21.])\n",
            "idxs: tensor([2, 3])\n"
          ],
          "name": "stdout"
        }
      ]
    },
    {
      "cell_type": "code",
      "metadata": {
        "id": "iLpw1jJ-zdld",
        "outputId": "e4c58708-226a-4d71-8aa9-d6fcd0947507",
        "colab": {
          "base_uri": "https://localhost:8080/",
          "height": 85
        }
      },
      "source": [
        "# Create a tensor of shape (120, 1, 32, 16, 16)\n",
        "x = torch.randn(120, 1, 32, 16, 16)\n",
        "print(x.shape)\n",
        "\n",
        "# Take the mean over dimension 1; shape is now (120, 32, 6, 16)\n",
        "x = x.mean(dim=1)\n",
        "print(x.shape)\n",
        "\n",
        "# Take the sum over dimension 2; shape is now (120, 32, 16)\n",
        "x = x.sum(dim=2)\n",
        "print(x.shape)\n",
        "\n",
        "# Take the mean over dimension 1, but keep the dimension from being eliminated\n",
        "# by passing keepdim=True; shape is now (120, 1, 16)\n",
        "x = x.mean(dim=1, keepdim=True)\n",
        "print(x.shape)"
      ],
      "execution_count": 36,
      "outputs": [
        {
          "output_type": "stream",
          "text": [
            "torch.Size([120, 1, 32, 16, 16])\n",
            "torch.Size([120, 32, 16, 16])\n",
            "torch.Size([120, 32, 16])\n",
            "torch.Size([120, 1, 16])\n"
          ],
          "name": "stdout"
        }
      ]
    },
    {
      "cell_type": "code",
      "metadata": {
        "id": "U8YwxPZZzdlg",
        "outputId": "1fa2ef6d-8adf-4ddb-c51a-d1601f104d6d",
        "colab": {
          "base_uri": "https://localhost:8080/",
          "height": 238
        }
      },
      "source": [
        "# matrix operation\n",
        "v = torch.tensor([5,14], dtype=torch.float32)\n",
        "w = torch.tensor([10, 20], dtype=torch.float32)\n",
        "\n",
        "# Inner product of vectors\n",
        "print('Dot products:')\n",
        "print(torch.dot(v, w))\n",
        "print(v.dot(w))\n",
        "\n",
        "# we use mm for matrix-matrix products:\n",
        "x = torch.tensor([[11,12],[5,4]], dtype=torch.float32)\n",
        "y = torch.tensor([[51,36],[7,8]], dtype=torch.float32)\n",
        "print('\\nMatrix-matrix product:')\n",
        "print(torch.mm(x, y))\n",
        "print(x.mm(y))\n",
        "\n",
        "# Matrix-vector multiply with torch.mv produces a rank-1 output\n",
        "print('\\nMatrix-vector product with torch.mv (rank 1 output)')\n",
        "print(torch.mv(x, v))\n",
        "print(x.mv(v))"
      ],
      "execution_count": 37,
      "outputs": [
        {
          "output_type": "stream",
          "text": [
            "Dot products:\n",
            "tensor(330.)\n",
            "tensor(330.)\n",
            "\n",
            "Matrix-matrix product:\n",
            "tensor([[645., 492.],\n",
            "        [283., 212.]])\n",
            "tensor([[645., 492.],\n",
            "        [283., 212.]])\n",
            "\n",
            "Matrix-vector product with torch.mv (rank 1 output)\n",
            "tensor([223.,  81.])\n",
            "tensor([223.,  81.])\n"
          ],
          "name": "stdout"
        }
      ]
    },
    {
      "cell_type": "code",
      "metadata": {
        "id": "ksoSm7Pnzdli",
        "outputId": "353ca534-7b6b-45d0-d96e-5cf0f7989ef8",
        "colab": {
          "base_uri": "https://localhost:8080/",
          "height": 85
        }
      },
      "source": [
        "# broadcasting\n",
        "\n",
        "# We will add the vector v to each row of the matrix x,\n",
        "# storing the result in the matrix y\n",
        "x = torch.tensor([[13,14,15], [16,17,18], [19,20,21], [22, 23, 24]])\n",
        "v = torch.tensor([1, 0, 1])\n",
        "y = torch.zeros_like(x)   # Create an empty matrix with the same shape as x\n",
        "\n",
        "# Add the vector v to each row of the matrix x with an explicit loop\n",
        "for i in range(4):\n",
        "    y[i, :] = x[i, :] + v\n",
        "print(y)"
      ],
      "execution_count": 38,
      "outputs": [
        {
          "output_type": "stream",
          "text": [
            "tensor([[14, 14, 16],\n",
            "        [17, 17, 19],\n",
            "        [20, 20, 22],\n",
            "        [23, 23, 25]])\n"
          ],
          "name": "stdout"
        }
      ]
    },
    {
      "cell_type": "code",
      "metadata": {
        "id": "7EGgcAKfzdlk",
        "outputId": "53849555-83aa-4939-da4b-108b5cadcf99",
        "colab": {
          "base_uri": "https://localhost:8080/",
          "height": 85
        }
      },
      "source": [
        "vv = v.repeat((4, 1))  # Stack 4 copies of v on top of each other\n",
        "print(vv)              # Prints \"[[1 0 1]\n",
        "                       #          [1 0 1]\n",
        "                       #          [1 0 1]\n",
        "                       #          [1 0 1]]\""
      ],
      "execution_count": 39,
      "outputs": [
        {
          "output_type": "stream",
          "text": [
            "tensor([[1, 0, 1],\n",
            "        [1, 0, 1],\n",
            "        [1, 0, 1],\n",
            "        [1, 0, 1]])\n"
          ],
          "name": "stdout"
        }
      ]
    },
    {
      "cell_type": "code",
      "metadata": {
        "id": "8TMk24r4zdlm",
        "outputId": "6947440e-ca32-4b13-cf59-a9846b83a63f",
        "colab": {
          "base_uri": "https://localhost:8080/",
          "height": 85
        }
      },
      "source": [
        "y = x + vv  # Add x and vv elementwise\n",
        "print(y)"
      ],
      "execution_count": 40,
      "outputs": [
        {
          "output_type": "stream",
          "text": [
            "tensor([[14, 14, 16],\n",
            "        [17, 17, 19],\n",
            "        [20, 20, 22],\n",
            "        [23, 23, 25]])\n"
          ],
          "name": "stdout"
        }
      ]
    },
    {
      "cell_type": "code",
      "metadata": {
        "id": "6FH3rKyJzdlo",
        "outputId": "f3388982-f494-4f2d-c7bc-3ab2a2c1597b",
        "colab": {
          "base_uri": "https://localhost:8080/",
          "height": 85
        }
      },
      "source": [
        "# We will add the vector v to each row of the matrix x,\n",
        "# storing the result in the matrix y\n",
        "x = torch.tensor([[1,2,3], [4,5,6], [7,8,9], [10, 11, 12]])\n",
        "v = torch.tensor([1, 0, 1])\n",
        "y = x + v  # Add v to each row of x using broadcasting\n",
        "print(y)\n"
      ],
      "execution_count": 41,
      "outputs": [
        {
          "output_type": "stream",
          "text": [
            "tensor([[ 2,  2,  4],\n",
            "        [ 5,  5,  7],\n",
            "        [ 8,  8, 10],\n",
            "        [11, 11, 13]])\n"
          ],
          "name": "stdout"
        }
      ]
    },
    {
      "cell_type": "code",
      "metadata": {
        "id": "iXYcKPuVzdlp",
        "outputId": "8502f5e9-61ee-4e37-b0ef-166eaefac82e",
        "colab": {
          "base_uri": "https://localhost:8080/",
          "height": 68
        }
      },
      "source": [
        "# Compute outer product of vectors\n",
        "v = torch.tensor([1, 2, 3])  # v has shape (3,)\n",
        "w = torch.tensor([4, 5])     # w has shape (2,)\n",
        "# To compute an outer product, we first reshape v to be a column\n",
        "# vector of shape (3, 1); we can then broadcast it against w to yield\n",
        "# an output of shape (3, 2), which is the outer product of v and w:\n",
        "print(v.view(3, 1) * w)\n"
      ],
      "execution_count": 7,
      "outputs": [
        {
          "output_type": "stream",
          "text": [
            "tensor([[ 4,  5],\n",
            "        [ 8, 10],\n",
            "        [12, 15]])\n"
          ],
          "name": "stdout"
        }
      ]
    },
    {
      "cell_type": "code",
      "metadata": {
        "id": "4CcxdZiZzdlr",
        "outputId": "927e484d-ea77-440d-e1ac-529e2d778fd9",
        "colab": {
          "base_uri": "https://localhost:8080/",
          "height": 34
        }
      },
      "source": [
        "## running on GPU\n",
        "\n",
        "import torch\n",
        "\n",
        "if torch.cuda.is_available:\n",
        "  print('PyTorch can use GPUs!')\n",
        "else:\n",
        "  print('PyTorch cannot use GPUs.')"
      ],
      "execution_count": 8,
      "outputs": [
        {
          "output_type": "stream",
          "text": [
            "PyTorch can use GPUs!\n"
          ],
          "name": "stdout"
        }
      ]
    },
    {
      "cell_type": "code",
      "metadata": {
        "id": "KrxbdsM5zdlt",
        "outputId": "b8f1f082-6b7d-40af-f47f-2daa731e04e8",
        "colab": {
          "base_uri": "https://localhost:8080/",
          "height": 136
        }
      },
      "source": [
        "# Construct a tensor on the CPU\n",
        "x0 = torch.tensor([[1, 2], [3, 4]], dtype=torch.float32)\n",
        "print('x0 device:', x0.device)\n",
        "\n",
        "# Move it to the GPU using .to()\n",
        "x1 = x0.to('cuda')\n",
        "print('x1 device:', x1.device)\n",
        "\n",
        "# Move it to the GPU using .cuda()\n",
        "x2 = x0.cuda()\n",
        "print('x2 device:', x2.device)\n",
        "\n",
        "# Move it back to the CPU using .to()\n",
        "x3 = x1.to('cpu')\n",
        "print('x3 device:', x3.device)\n",
        "\n",
        "# Move it back to the CPU using .cpu()\n",
        "x4 = x2.cpu()\n",
        "print('x4 device:', x4.device)\n",
        "\n",
        "# We can construct tensors directly on the GPU as well\n",
        "y = torch.tensor([[1, 2, 3], [4, 5, 6]], dtype=torch.float64, device='cuda')\n",
        "print('y device / dtype:', y.device, y.dtype)\n",
        "\n",
        "# Calling x.to(y) where y is a tensor will return a copy of x with the same\n",
        "# device and dtype as y\n",
        "x5 = x0.to(y)\n",
        "print('x5 device / dtype:', x5.device, x5.dtype)"
      ],
      "execution_count": 9,
      "outputs": [
        {
          "output_type": "stream",
          "text": [
            "x0 device: cpu\n",
            "x1 device: cuda:0\n",
            "x2 device: cuda:0\n",
            "x3 device: cpu\n",
            "x4 device: cpu\n",
            "y device / dtype: cuda:0 torch.float64\n",
            "x5 device / dtype: cuda:0 torch.float64\n"
          ],
          "name": "stdout"
        }
      ]
    },
    {
      "cell_type": "code",
      "metadata": {
        "id": "8Z2siFKQzdlv",
        "outputId": "1dcbecd6-3514-44b1-da71-15059dde0ec3",
        "colab": {
          "base_uri": "https://localhost:8080/",
          "height": 85
        }
      },
      "source": [
        "import time\n",
        "\n",
        "a_cpu = torch.randn(10000, 10000, dtype=torch.float32)\n",
        "b_cpu = torch.randn(10000, 10000, dtype=torch.float32)\n",
        "\n",
        "a_gpu = a_cpu.cuda()\n",
        "b_gpu = b_cpu.cuda()\n",
        "torch.cuda.synchronize()\n",
        "\n",
        "t0 = time.time()\n",
        "c_cpu = a_cpu + b_cpu\n",
        "t1 = time.time()\n",
        "c_gpu = a_gpu + b_gpu\n",
        "torch.cuda.synchronize()\n",
        "t2 = time.time()\n",
        "\n",
        "# Check that they computed the same thing\n",
        "diff = (c_gpu.cpu() - c_cpu).abs().max().item()\n",
        "print('Max difference between c_gpu and c_cpu:', diff)\n",
        "\n",
        "cpu_time = 1000.0 * (t1 - t0)\n",
        "gpu_time = 1000.0 * (t2 - t1)\n",
        "print('CPU time: %.2f ms' % cpu_time)\n",
        "print('GPU time: %.2f ms' % gpu_time)\n",
        "print('GPU speedup: %.2f x' % (cpu_time / gpu_time))"
      ],
      "execution_count": 10,
      "outputs": [
        {
          "output_type": "stream",
          "text": [
            "Max difference between c_gpu and c_cpu: 0.0\n",
            "CPU time: 227.49 ms\n",
            "GPU time: 10.85 ms\n",
            "GPU speedup: 20.96 x\n"
          ],
          "name": "stdout"
        }
      ]
    },
    {
      "cell_type": "code",
      "metadata": {
        "id": "tYQ3ho3gzdlx"
      },
      "source": [
        ""
      ],
      "execution_count": null,
      "outputs": []
    }
  ]
}